{
  "nbformat": 4,
  "nbformat_minor": 0,
  "metadata": {
    "colab": {
      "provenance": []
    },
    "kernelspec": {
      "name": "ir",
      "display_name": "R"
    },
    "language_info": {
      "name": "R"
    }
  },
  "cells": [
    {
      "cell_type": "markdown",
      "source": [
        "**Nested Function**"
      ],
      "metadata": {
        "id": "YquRUieiB2-4"
      }
    },
    {
      "cell_type": "code",
      "execution_count": 1,
      "metadata": {
        "colab": {
          "base_uri": "https://localhost:8080/"
        },
        "id": "HtfYlGCgBwB8",
        "outputId": "0ec0a426-a132-46b7-adea-2454465eaba2"
      },
      "outputs": [
        {
          "output_type": "stream",
          "name": "stdout",
          "text": [
            "[1] 30\n",
            "[1] 20\n",
            "[1] 100\n"
          ]
        }
      ],
      "source": [
        "#nested functions local and global scope\n",
        "a<-function(x,y){ #outer function\n",
        "  z<-x+y\n",
        "  r<-100 #global variable\n",
        "  print(z)\n",
        "  b<-function(p){ #inner function\n",
        "    r<-p-z\n",
        "    print(r)\n",
        "  }\n",
        "  b(50)\n",
        "  print(r)\n",
        "}\n",
        "a(10,20)\n",
        "\n",
        "#global and local--2\n"
      ]
    }
  ]
}